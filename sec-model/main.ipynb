{
 "cells": [
  {
   "cell_type": "code",
   "execution_count": 1,
   "metadata": {},
   "outputs": [
    {
     "name": "stdout",
     "output_type": "stream",
     "text": [
      "c:\\Users\\Ayush\\OneDrive\\Documents\\ml\\krishi.ai\\processed_data\\MODEL\\yolov5\n"
     ]
    },
    {
     "name": "stderr",
     "output_type": "stream",
     "text": [
      "Cloning into 'yolov5'...\n"
     ]
    },
    {
     "name": "stdout",
     "output_type": "stream",
     "text": [
      "Collecting gitpython>=3.1.30 (from -r requirements.txt (line 5))\n",
      "  Downloading GitPython-3.1.43-py3-none-any.whl.metadata (13 kB)\n",
      "Requirement already satisfied: matplotlib>=3.3 in c:\\users\\ayush\\apython\\envs\\gpu\\lib\\site-packages (from -r requirements.txt (line 6)) (3.8.0)\n",
      "Requirement already satisfied: numpy>=1.23.5 in c:\\users\\ayush\\apython\\envs\\gpu\\lib\\site-packages (from -r requirements.txt (line 7)) (1.26.4)\n",
      "Requirement already satisfied: opencv-python>=4.1.1 in c:\\users\\ayush\\apython\\envs\\gpu\\lib\\site-packages (from -r requirements.txt (line 8)) (4.10.0.84)\n",
      "Collecting pillow>=10.3.0 (from -r requirements.txt (line 9))\n",
      "  Downloading pillow-10.4.0-cp312-cp312-win_amd64.whl.metadata (9.3 kB)\n",
      "Requirement already satisfied: psutil in c:\\users\\ayush\\appdata\\roaming\\python\\python312\\site-packages (from -r requirements.txt (line 10)) (5.9.6)\n",
      "Requirement already satisfied: PyYAML>=5.3.1 in c:\\users\\ayush\\apython\\envs\\gpu\\lib\\site-packages (from -r requirements.txt (line 11)) (6.0.1)\n",
      "Collecting requests>=2.32.2 (from -r requirements.txt (line 12))\n",
      "  Downloading requests-2.32.3-py3-none-any.whl.metadata (4.6 kB)\n",
      "Requirement already satisfied: scipy>=1.4.1 in c:\\users\\ayush\\apython\\envs\\gpu\\lib\\site-packages (from -r requirements.txt (line 13)) (1.11.3)\n",
      "Collecting thop>=0.1.1 (from -r requirements.txt (line 14))\n",
      "  Downloading thop-0.1.1.post2209072238-py3-none-any.whl.metadata (2.7 kB)\n",
      "Requirement already satisfied: torch>=1.8.0 in c:\\users\\ayush\\apython\\envs\\gpu\\lib\\site-packages (from -r requirements.txt (line 15)) (2.2.0)\n",
      "Requirement already satisfied: torchvision>=0.9.0 in c:\\users\\ayush\\apython\\envs\\gpu\\lib\\site-packages (from -r requirements.txt (line 16)) (0.17.0)\n",
      "Collecting tqdm>=4.66.3 (from -r requirements.txt (line 17))\n",
      "  Downloading tqdm-4.66.5-py3-none-any.whl.metadata (57 kB)\n",
      "     ---------------------------------------- 0.0/57.6 kB ? eta -:--:--\n",
      "     ---------------------------- ----------- 41.0/57.6 kB 1.9 MB/s eta 0:00:01\n",
      "     ---------------------------------------- 57.6/57.6 kB 1.5 MB/s eta 0:00:00\n",
      "Collecting ultralytics>=8.2.34 (from -r requirements.txt (line 18))\n",
      "  Downloading ultralytics-8.3.12-py3-none-any.whl.metadata (34 kB)\n",
      "Requirement already satisfied: pandas>=1.1.4 in c:\\users\\ayush\\apython\\envs\\gpu\\lib\\site-packages (from -r requirements.txt (line 27)) (2.2.3)\n",
      "Requirement already satisfied: seaborn>=0.11.0 in c:\\users\\ayush\\apython\\envs\\gpu\\lib\\site-packages (from -r requirements.txt (line 28)) (0.12.2)\n",
      "Collecting setuptools>=70.0.0 (from -r requirements.txt (line 42))\n",
      "  Using cached setuptools-75.1.0-py3-none-any.whl.metadata (6.9 kB)\n",
      "Collecting gitdb<5,>=4.0.1 (from gitpython>=3.1.30->-r requirements.txt (line 5))\n",
      "  Downloading gitdb-4.0.11-py3-none-any.whl.metadata (1.2 kB)\n",
      "Requirement already satisfied: contourpy>=1.0.1 in c:\\users\\ayush\\apython\\envs\\gpu\\lib\\site-packages (from matplotlib>=3.3->-r requirements.txt (line 6)) (1.2.0)\n",
      "Requirement already satisfied: cycler>=0.10 in c:\\users\\ayush\\apython\\envs\\gpu\\lib\\site-packages (from matplotlib>=3.3->-r requirements.txt (line 6)) (0.11.0)\n",
      "Requirement already satisfied: fonttools>=4.22.0 in c:\\users\\ayush\\apython\\envs\\gpu\\lib\\site-packages (from matplotlib>=3.3->-r requirements.txt (line 6)) (4.25.0)\n",
      "Requirement already satisfied: kiwisolver>=1.0.1 in c:\\users\\ayush\\apython\\envs\\gpu\\lib\\site-packages (from matplotlib>=3.3->-r requirements.txt (line 6)) (1.4.4)\n",
      "Requirement already satisfied: packaging>=20.0 in c:\\users\\ayush\\apython\\envs\\gpu\\lib\\site-packages (from matplotlib>=3.3->-r requirements.txt (line 6)) (23.1)\n",
      "Requirement already satisfied: pyparsing>=2.3.1 in c:\\users\\ayush\\apython\\envs\\gpu\\lib\\site-packages (from matplotlib>=3.3->-r requirements.txt (line 6)) (3.0.9)\n",
      "Requirement already satisfied: python-dateutil>=2.7 in c:\\users\\ayush\\apython\\envs\\gpu\\lib\\site-packages (from matplotlib>=3.3->-r requirements.txt (line 6)) (2.9.0)\n",
      "Requirement already satisfied: charset-normalizer<4,>=2 in c:\\users\\ayush\\apython\\envs\\gpu\\lib\\site-packages (from requests>=2.32.2->-r requirements.txt (line 12)) (2.0.4)\n",
      "Requirement already satisfied: idna<4,>=2.5 in c:\\users\\ayush\\apython\\envs\\gpu\\lib\\site-packages (from requests>=2.32.2->-r requirements.txt (line 12)) (3.4)\n",
      "Requirement already satisfied: urllib3<3,>=1.21.1 in c:\\users\\ayush\\apython\\envs\\gpu\\lib\\site-packages (from requests>=2.32.2->-r requirements.txt (line 12)) (2.1.0)\n",
      "Requirement already satisfied: certifi>=2017.4.17 in c:\\users\\ayush\\apython\\envs\\gpu\\lib\\site-packages (from requests>=2.32.2->-r requirements.txt (line 12)) (2024.8.30)\n",
      "Requirement already satisfied: filelock in c:\\users\\ayush\\apython\\envs\\gpu\\lib\\site-packages (from torch>=1.8.0->-r requirements.txt (line 15)) (3.13.1)\n",
      "Requirement already satisfied: typing-extensions>=4.8.0 in c:\\users\\ayush\\apython\\envs\\gpu\\lib\\site-packages (from torch>=1.8.0->-r requirements.txt (line 15)) (4.9.0)\n",
      "Requirement already satisfied: sympy in c:\\users\\ayush\\apython\\envs\\gpu\\lib\\site-packages (from torch>=1.8.0->-r requirements.txt (line 15)) (1.12)\n",
      "Requirement already satisfied: networkx in c:\\users\\ayush\\apython\\envs\\gpu\\lib\\site-packages (from torch>=1.8.0->-r requirements.txt (line 15)) (3.1)\n",
      "Requirement already satisfied: jinja2 in c:\\users\\ayush\\apython\\envs\\gpu\\lib\\site-packages (from torch>=1.8.0->-r requirements.txt (line 15)) (3.1.3)\n",
      "Requirement already satisfied: fsspec in c:\\users\\ayush\\apython\\envs\\gpu\\lib\\site-packages (from torch>=1.8.0->-r requirements.txt (line 15)) (2024.2.0)\n",
      "Requirement already satisfied: colorama in c:\\users\\ayush\\appdata\\roaming\\python\\python312\\site-packages (from tqdm>=4.66.3->-r requirements.txt (line 17)) (0.4.6)\n",
      "Collecting py-cpuinfo (from ultralytics>=8.2.34->-r requirements.txt (line 18))\n",
      "  Downloading py_cpuinfo-9.0.0-py3-none-any.whl.metadata (794 bytes)\n",
      "Collecting ultralytics-thop>=2.0.0 (from ultralytics>=8.2.34->-r requirements.txt (line 18))\n",
      "  Downloading ultralytics_thop-2.0.9-py3-none-any.whl.metadata (9.3 kB)\n",
      "Requirement already satisfied: pytz>=2020.1 in c:\\users\\ayush\\apython\\envs\\gpu\\lib\\site-packages (from pandas>=1.1.4->-r requirements.txt (line 27)) (2024.1)\n",
      "Requirement already satisfied: tzdata>=2022.7 in c:\\users\\ayush\\apython\\envs\\gpu\\lib\\site-packages (from pandas>=1.1.4->-r requirements.txt (line 27)) (2024.1)\n",
      "Collecting smmap<6,>=3.0.1 (from gitdb<5,>=4.0.1->gitpython>=3.1.30->-r requirements.txt (line 5))\n",
      "  Downloading smmap-5.0.1-py3-none-any.whl.metadata (4.3 kB)\n",
      "Requirement already satisfied: six>=1.5 in c:\\users\\ayush\\apython\\envs\\gpu\\lib\\site-packages (from python-dateutil>=2.7->matplotlib>=3.3->-r requirements.txt (line 6)) (1.16.0)\n",
      "Requirement already satisfied: MarkupSafe>=2.0 in c:\\users\\ayush\\apython\\envs\\gpu\\lib\\site-packages (from jinja2->torch>=1.8.0->-r requirements.txt (line 15)) (2.1.3)\n",
      "Requirement already satisfied: mpmath>=0.19 in c:\\users\\ayush\\apython\\envs\\gpu\\lib\\site-packages (from sympy->torch>=1.8.0->-r requirements.txt (line 15)) (1.3.0)\n",
      "Downloading GitPython-3.1.43-py3-none-any.whl (207 kB)\n",
      "   ---------------------------------------- 0.0/207.3 kB ? eta -:--:--\n",
      "   ----------------------------- ---------- 153.6/207.3 kB 3.1 MB/s eta 0:00:01\n",
      "   ---------------------------------------- 207.3/207.3 kB 2.5 MB/s eta 0:00:00\n",
      "Downloading pillow-10.4.0-cp312-cp312-win_amd64.whl (2.6 MB)\n",
      "   ---------------------------------------- 0.0/2.6 MB ? eta -:--:--\n",
      "   ---- ----------------------------------- 0.3/2.6 MB 6.3 MB/s eta 0:00:01\n",
      "   ------ --------------------------------- 0.4/2.6 MB 4.2 MB/s eta 0:00:01\n",
      "   ------- -------------------------------- 0.5/2.6 MB 5.1 MB/s eta 0:00:01\n",
      "   ------- -------------------------------- 0.5/2.6 MB 5.1 MB/s eta 0:00:01\n",
      "   -------------- ------------------------- 0.9/2.6 MB 3.8 MB/s eta 0:00:01\n",
      "   ------------------ --------------------- 1.2/2.6 MB 4.2 MB/s eta 0:00:01\n",
      "   -------------------- ------------------- 1.3/2.6 MB 4.5 MB/s eta 0:00:01\n",
      "   -------------------- ------------------- 1.3/2.6 MB 4.5 MB/s eta 0:00:01\n",
      "   -------------------- ------------------- 1.3/2.6 MB 3.3 MB/s eta 0:00:01\n",
      "   ------------------------- -------------- 1.7/2.6 MB 3.6 MB/s eta 0:00:01\n",
      "   ------------------------- -------------- 1.7/2.6 MB 3.6 MB/s eta 0:00:01\n",
      "   ------------------------------ --------- 2.0/2.6 MB 3.8 MB/s eta 0:00:01\n",
      "   ---------------------------------------  2.5/2.6 MB 4.4 MB/s eta 0:00:01\n",
      "   ---------------------------------------- 2.6/2.6 MB 4.1 MB/s eta 0:00:00\n",
      "Downloading requests-2.32.3-py3-none-any.whl (64 kB)\n",
      "   ---------------------------------------- 0.0/64.9 kB ? eta -:--:--\n",
      "   ---------------------------------------- 64.9/64.9 kB 3.4 MB/s eta 0:00:00\n",
      "Downloading thop-0.1.1.post2209072238-py3-none-any.whl (15 kB)\n",
      "Downloading tqdm-4.66.5-py3-none-any.whl (78 kB)\n",
      "   ---------------------------------------- 0.0/78.4 kB ? eta -:--:--\n",
      "   ---------------------------------------- 78.4/78.4 kB ? eta 0:00:00\n",
      "Downloading ultralytics-8.3.12-py3-none-any.whl (870 kB)\n",
      "   ---------------------------------------- 0.0/871.0 kB ? eta -:--:--\n",
      "   ----------------- --------------------- 389.1/871.0 kB 11.8 MB/s eta 0:00:01\n",
      "   --------------------------- ------------ 593.9/871.0 kB 7.4 MB/s eta 0:00:01\n",
      "   ---------------------------------------- 871.0/871.0 kB 6.9 MB/s eta 0:00:00\n",
      "Using cached setuptools-75.1.0-py3-none-any.whl (1.2 MB)\n",
      "Downloading gitdb-4.0.11-py3-none-any.whl (62 kB)\n",
      "   ---------------------------------------- 0.0/62.7 kB ? eta -:--:--\n",
      "   ---------------------------------------- 62.7/62.7 kB 3.5 MB/s eta 0:00:00\n",
      "Downloading ultralytics_thop-2.0.9-py3-none-any.whl (26 kB)\n",
      "Downloading py_cpuinfo-9.0.0-py3-none-any.whl (22 kB)\n",
      "Downloading smmap-5.0.1-py3-none-any.whl (24 kB)\n",
      "Installing collected packages: py-cpuinfo, tqdm, smmap, setuptools, requests, pillow, gitdb, ultralytics-thop, thop, gitpython, ultralytics\n",
      "  Attempting uninstall: tqdm\n",
      "    Found existing installation: tqdm 4.65.0\n",
      "    Uninstalling tqdm-4.65.0:\n",
      "      Successfully uninstalled tqdm-4.65.0\n",
      "  Attempting uninstall: setuptools\n",
      "    Found existing installation: setuptools 68.2.2\n",
      "    Uninstalling setuptools-68.2.2:\n",
      "      Successfully uninstalled setuptools-68.2.2\n",
      "  Attempting uninstall: requests\n",
      "    Found existing installation: requests 2.31.0\n",
      "    Uninstalling requests-2.31.0:\n",
      "      Successfully uninstalled requests-2.31.0\n",
      "  Attempting uninstall: pillow\n",
      "    Found existing installation: pillow 10.2.0\n",
      "    Uninstalling pillow-10.2.0:\n",
      "      Successfully uninstalled pillow-10.2.0\n",
      "Successfully installed gitdb-4.0.11 gitpython-3.1.43 pillow-10.4.0 py-cpuinfo-9.0.0 requests-2.32.3 setuptools-75.1.0 smmap-5.0.1 thop-0.1.1.post2209072238 tqdm-4.66.2 ultralytics-8.3.12 ultralytics-thop-2.0.9\n"
     ]
    },
    {
     "name": "stderr",
     "output_type": "stream",
     "text": [
      "WARNING: Skipping C:\\Users\\Ayush\\apython\\envs\\gpu\\Lib\\site-packages\\pandas-2.2.1.dist-info due to invalid metadata entry 'name'\n",
      "WARNING: Skipping C:\\Users\\Ayush\\apython\\envs\\gpu\\Lib\\site-packages\\pandas-2.2.1.dist-info due to invalid metadata entry 'name'\n",
      "WARNING: Skipping C:\\Users\\Ayush\\apython\\envs\\gpu\\Lib\\site-packages\\pandas-2.2.1.dist-info due to invalid metadata entry 'name'\n",
      "    WARNING: Skipping C:\\Users\\Ayush\\apython\\envs\\gpu\\Lib\\site-packages\\pandas-2.2.1.dist-info due to invalid metadata entry 'name'\n",
      "    WARNING: Skipping C:\\Users\\Ayush\\apython\\envs\\gpu\\Lib\\site-packages\\pandas-2.2.1.dist-info due to invalid metadata entry 'name'\n",
      "    WARNING: Skipping C:\\Users\\Ayush\\apython\\envs\\gpu\\Lib\\site-packages\\pandas-2.2.1.dist-info due to invalid metadata entry 'name'\n",
      "    WARNING: Skipping C:\\Users\\Ayush\\apython\\envs\\gpu\\Lib\\site-packages\\pandas-2.2.1.dist-info due to invalid metadata entry 'name'\n",
      "WARNING: Skipping C:\\Users\\Ayush\\apython\\envs\\gpu\\Lib\\site-packages\\pandas-2.2.1.dist-info due to invalid metadata entry 'name'\n",
      "WARNING: Skipping C:\\Users\\Ayush\\apython\\envs\\gpu\\Lib\\site-packages\\pandas-2.2.1.dist-info due to invalid metadata entry 'name'\n",
      "WARNING: Skipping C:\\Users\\Ayush\\apython\\envs\\gpu\\Lib\\site-packages\\pandas-2.2.1.dist-info due to invalid metadata entry 'name'\n",
      "WARNING: Skipping C:\\Users\\Ayush\\apython\\envs\\gpu\\Lib\\site-packages\\pandas-2.2.1.dist-info due to invalid metadata entry 'name'\n",
      "WARNING: Skipping C:\\Users\\Ayush\\apython\\envs\\gpu\\Lib\\site-packages\\pandas-2.2.1.dist-info due to invalid metadata entry 'name'\n",
      "WARNING: Skipping C:\\Users\\Ayush\\apython\\envs\\gpu\\Lib\\site-packages\\pandas-2.2.1.dist-info due to invalid metadata entry 'name'\n",
      "WARNING: Skipping C:\\Users\\Ayush\\apython\\envs\\gpu\\Lib\\site-packages\\pandas-2.2.1.dist-info due to invalid metadata entry 'name'\n",
      "WARNING: Skipping C:\\Users\\Ayush\\apython\\envs\\gpu\\Lib\\site-packages\\pandas-2.2.1.dist-info due to invalid metadata entry 'name'\n",
      "WARNING: Skipping C:\\Users\\Ayush\\apython\\envs\\gpu\\Lib\\site-packages\\pandas-2.2.1.dist-info due to invalid metadata entry 'name'\n",
      "WARNING: Skipping C:\\Users\\Ayush\\apython\\envs\\gpu\\Lib\\site-packages\\pandas-2.2.1.dist-info due to invalid metadata entry 'name'\n",
      "WARNING: Skipping C:\\Users\\Ayush\\apython\\envs\\gpu\\Lib\\site-packages\\pandas-2.2.1.dist-info due to invalid metadata entry 'name'\n",
      "WARNING: Skipping C:\\Users\\Ayush\\apython\\envs\\gpu\\Lib\\site-packages\\pandas-2.2.1.dist-info due to invalid metadata entry 'name'\n"
     ]
    }
   ],
   "source": [
    "!git clone https://github.com/ultralytics/yolov5\n",
    "%cd yolov5\n",
    "!pip install -r requirements.txt"
   ]
  },
  {
   "cell_type": "code",
   "execution_count": 1,
   "metadata": {},
   "outputs": [],
   "source": [
    "import pandas as pd\n",
    "\n",
    "train_df= pd.read_csv(r'C:/Users/Ayush/OneDrive/Documents/ml/krishi.ai/processed_data/FGVC8/train/train.csv')"
   ]
  },
  {
   "cell_type": "code",
   "execution_count": 2,
   "metadata": {},
   "outputs": [
    {
     "data": {
      "text/html": [
       "<div>\n",
       "<style scoped>\n",
       "    .dataframe tbody tr th:only-of-type {\n",
       "        vertical-align: middle;\n",
       "    }\n",
       "\n",
       "    .dataframe tbody tr th {\n",
       "        vertical-align: top;\n",
       "    }\n",
       "\n",
       "    .dataframe thead th {\n",
       "        text-align: right;\n",
       "    }\n",
       "</style>\n",
       "<table border=\"1\" class=\"dataframe\">\n",
       "  <thead>\n",
       "    <tr style=\"text-align: right;\">\n",
       "      <th></th>\n",
       "      <th>image</th>\n",
       "      <th>labels</th>\n",
       "    </tr>\n",
       "  </thead>\n",
       "  <tbody>\n",
       "    <tr>\n",
       "      <th>0</th>\n",
       "      <td>train\\ad5ac02f165d9cac\\aug_5_ad5ac02f165d9cac.jpg</td>\n",
       "      <td>scab</td>\n",
       "    </tr>\n",
       "    <tr>\n",
       "      <th>1</th>\n",
       "      <td>train\\b8a7cac8958b98d9\\aug_1_b8a7cac8958b98d9.jpg</td>\n",
       "      <td>frog_eye_leaf_spot</td>\n",
       "    </tr>\n",
       "    <tr>\n",
       "      <th>2</th>\n",
       "      <td>train\\8af86da87ce164c6\\aug_5_8af86da87ce164c6.jpg</td>\n",
       "      <td>healthy</td>\n",
       "    </tr>\n",
       "    <tr>\n",
       "      <th>3</th>\n",
       "      <td>train\\908fb45e5ae82ef0\\aug_5_908fb45e5ae82ef0.jpg</td>\n",
       "      <td>frog_eye_leaf_spot</td>\n",
       "    </tr>\n",
       "    <tr>\n",
       "      <th>4</th>\n",
       "      <td>train\\a28895138e2fdf0f\\aug_3_a28895138e2fdf0f.jpg</td>\n",
       "      <td>frog_eye_leaf_spot</td>\n",
       "    </tr>\n",
       "  </tbody>\n",
       "</table>\n",
       "</div>"
      ],
      "text/plain": [
       "                                               image              labels\n",
       "0  train\\ad5ac02f165d9cac\\aug_5_ad5ac02f165d9cac.jpg                scab\n",
       "1  train\\b8a7cac8958b98d9\\aug_1_b8a7cac8958b98d9.jpg  frog_eye_leaf_spot\n",
       "2  train\\8af86da87ce164c6\\aug_5_8af86da87ce164c6.jpg             healthy\n",
       "3  train\\908fb45e5ae82ef0\\aug_5_908fb45e5ae82ef0.jpg  frog_eye_leaf_spot\n",
       "4  train\\a28895138e2fdf0f\\aug_3_a28895138e2fdf0f.jpg  frog_eye_leaf_spot"
      ]
     },
     "execution_count": 2,
     "metadata": {},
     "output_type": "execute_result"
    }
   ],
   "source": [
    "train_df.head()"
   ]
  },
  {
   "cell_type": "code",
   "execution_count": 3,
   "metadata": {},
   "outputs": [],
   "source": [
    "main_df= pd.read_csv(r'C:/Users/Ayush/OneDrive/Documents/ml/krishi.ai/processed_data/FGVC8/processed_train.csv')"
   ]
  },
  {
   "cell_type": "code",
   "execution_count": 4,
   "metadata": {},
   "outputs": [
    {
     "data": {
      "text/html": [
       "<div>\n",
       "<style scoped>\n",
       "    .dataframe tbody tr th:only-of-type {\n",
       "        vertical-align: middle;\n",
       "    }\n",
       "\n",
       "    .dataframe tbody tr th {\n",
       "        vertical-align: top;\n",
       "    }\n",
       "\n",
       "    .dataframe thead th {\n",
       "        text-align: right;\n",
       "    }\n",
       "</style>\n",
       "<table border=\"1\" class=\"dataframe\">\n",
       "  <thead>\n",
       "    <tr style=\"text-align: right;\">\n",
       "      <th></th>\n",
       "      <th>image</th>\n",
       "      <th>labels</th>\n",
       "    </tr>\n",
       "  </thead>\n",
       "  <tbody>\n",
       "    <tr>\n",
       "      <th>0</th>\n",
       "      <td>b094d68adf955d50\\proc_b094d68adf955d50.jpg</td>\n",
       "      <td>healthy</td>\n",
       "    </tr>\n",
       "    <tr>\n",
       "      <th>1</th>\n",
       "      <td>b094d68adf955d50\\aug_0_b094d68adf955d50.jpg</td>\n",
       "      <td>healthy</td>\n",
       "    </tr>\n",
       "    <tr>\n",
       "      <th>2</th>\n",
       "      <td>b094d68adf955d50\\aug_1_b094d68adf955d50.jpg</td>\n",
       "      <td>healthy</td>\n",
       "    </tr>\n",
       "    <tr>\n",
       "      <th>3</th>\n",
       "      <td>b094d68adf955d50\\aug_2_b094d68adf955d50.jpg</td>\n",
       "      <td>healthy</td>\n",
       "    </tr>\n",
       "    <tr>\n",
       "      <th>4</th>\n",
       "      <td>b094d68adf955d50\\aug_3_b094d68adf955d50.jpg</td>\n",
       "      <td>healthy</td>\n",
       "    </tr>\n",
       "  </tbody>\n",
       "</table>\n",
       "</div>"
      ],
      "text/plain": [
       "                                         image   labels\n",
       "0   b094d68adf955d50\\proc_b094d68adf955d50.jpg  healthy\n",
       "1  b094d68adf955d50\\aug_0_b094d68adf955d50.jpg  healthy\n",
       "2  b094d68adf955d50\\aug_1_b094d68adf955d50.jpg  healthy\n",
       "3  b094d68adf955d50\\aug_2_b094d68adf955d50.jpg  healthy\n",
       "4  b094d68adf955d50\\aug_3_b094d68adf955d50.jpg  healthy"
      ]
     },
     "execution_count": 4,
     "metadata": {},
     "output_type": "execute_result"
    }
   ],
   "source": [
    "main_df.head()"
   ]
  },
  {
   "cell_type": "code",
   "execution_count": 11,
   "metadata": {},
   "outputs": [
    {
     "data": {
      "text/plain": [
       "((59913, 2), (47929, 2))"
      ]
     },
     "execution_count": 11,
     "metadata": {},
     "output_type": "execute_result"
    }
   ],
   "source": [
    "main_df.shape, train_df.shape"
   ]
  },
  {
   "cell_type": "code",
   "execution_count": 6,
   "metadata": {},
   "outputs": [],
   "source": [
    "# those labels which are not present in the train.csv file but in processed_train make a new df named val_df \n",
    "val_df= main_df[~main_df['image'].isin(train_df['image'])]"
   ]
  },
  {
   "cell_type": "code",
   "execution_count": 8,
   "metadata": {},
   "outputs": [
    {
     "data": {
      "text/plain": [
       "(59913, 2)"
      ]
     },
     "execution_count": 8,
     "metadata": {},
     "output_type": "execute_result"
    }
   ],
   "source": [
    "val_df.shape"
   ]
  },
  {
   "cell_type": "code",
   "execution_count": 13,
   "metadata": {},
   "outputs": [
    {
     "name": "stdout",
     "output_type": "stream",
     "text": [
      "                                             image              labels\n",
      "0      ad5ac02f165d9cac\\aug_5_ad5ac02f165d9cac.jpg                scab\n",
      "1      b8a7cac8958b98d9\\aug_1_b8a7cac8958b98d9.jpg  frog_eye_leaf_spot\n",
      "2      8af86da87ce164c6\\aug_5_8af86da87ce164c6.jpg             healthy\n",
      "3      908fb45e5ae82ef0\\aug_5_908fb45e5ae82ef0.jpg  frog_eye_leaf_spot\n",
      "4      a28895138e2fdf0f\\aug_3_a28895138e2fdf0f.jpg  frog_eye_leaf_spot\n",
      "...                                            ...                 ...\n",
      "47924  8ecc3c8d43b8cf31\\aug_5_8ecc3c8d43b8cf31.jpg                scab\n",
      "47925  ad1af3bdc53084b4\\aug_0_ad1af3bdc53084b4.jpg                rust\n",
      "47926  ba1d31639058daeb\\aug_3_ba1d31639058daeb.jpg        rust complex\n",
      "47927  aa1f81e09f81789f\\aug_0_aa1f81e09f81789f.jpg                rust\n",
      "47928  b98e74d34a3b0d4c\\aug_3_b98e74d34a3b0d4c.jpg                scab\n",
      "\n",
      "[47929 rows x 2 columns]\n"
     ]
    }
   ],
   "source": [
    "train_df['image'] = train_df['image'].str.replace('train\\\\', '', regex=False)\n",
    "\n",
    "# Display the updated DataFrame\n",
    "print(train_df)"
   ]
  },
  {
   "cell_type": "code",
   "execution_count": 16,
   "metadata": {},
   "outputs": [],
   "source": [
    "val_df = main_df[~main_df['image'].isin(train_df['image'])]"
   ]
  },
  {
   "cell_type": "code",
   "execution_count": 17,
   "metadata": {},
   "outputs": [
    {
     "data": {
      "text/html": [
       "<div>\n",
       "<style scoped>\n",
       "    .dataframe tbody tr th:only-of-type {\n",
       "        vertical-align: middle;\n",
       "    }\n",
       "\n",
       "    .dataframe tbody tr th {\n",
       "        vertical-align: top;\n",
       "    }\n",
       "\n",
       "    .dataframe thead th {\n",
       "        text-align: right;\n",
       "    }\n",
       "</style>\n",
       "<table border=\"1\" class=\"dataframe\">\n",
       "  <thead>\n",
       "    <tr style=\"text-align: right;\">\n",
       "      <th></th>\n",
       "      <th>image</th>\n",
       "      <th>labels</th>\n",
       "    </tr>\n",
       "  </thead>\n",
       "  <tbody>\n",
       "    <tr>\n",
       "      <th>2</th>\n",
       "      <td>b094d68adf955d50\\aug_1_b094d68adf955d50.jpg</td>\n",
       "      <td>healthy</td>\n",
       "    </tr>\n",
       "    <tr>\n",
       "      <th>12</th>\n",
       "      <td>91e7cc99b3254c69\\aug_4_91e7cc99b3254c69.jpg</td>\n",
       "      <td>frog_eye_leaf_spot</td>\n",
       "    </tr>\n",
       "    <tr>\n",
       "      <th>19</th>\n",
       "      <td>8ba5d79798b86815\\aug_4_8ba5d79798b86815.jpg</td>\n",
       "      <td>healthy</td>\n",
       "    </tr>\n",
       "    <tr>\n",
       "      <th>24</th>\n",
       "      <td>b56635b6925252b3\\aug_2_b56635b6925252b3.jpg</td>\n",
       "      <td>frog_eye_leaf_spot</td>\n",
       "    </tr>\n",
       "    <tr>\n",
       "      <th>25</th>\n",
       "      <td>b56635b6925252b3\\aug_3_b56635b6925252b3.jpg</td>\n",
       "      <td>frog_eye_leaf_spot</td>\n",
       "    </tr>\n",
       "  </tbody>\n",
       "</table>\n",
       "</div>"
      ],
      "text/plain": [
       "                                          image              labels\n",
       "2   b094d68adf955d50\\aug_1_b094d68adf955d50.jpg             healthy\n",
       "12  91e7cc99b3254c69\\aug_4_91e7cc99b3254c69.jpg  frog_eye_leaf_spot\n",
       "19  8ba5d79798b86815\\aug_4_8ba5d79798b86815.jpg             healthy\n",
       "24  b56635b6925252b3\\aug_2_b56635b6925252b3.jpg  frog_eye_leaf_spot\n",
       "25  b56635b6925252b3\\aug_3_b56635b6925252b3.jpg  frog_eye_leaf_spot"
      ]
     },
     "execution_count": 17,
     "metadata": {},
     "output_type": "execute_result"
    }
   ],
   "source": [
    "val_df.head()"
   ]
  },
  {
   "cell_type": "code",
   "execution_count": 18,
   "metadata": {},
   "outputs": [],
   "source": [
    "# save val_df to a csv file name val.csv\n",
    "\n",
    "val_df.to_csv(r'C:/Users/Ayush/OneDrive/Documents/ml/krishi.ai/processed_data/FGVC8/val/val.csv', index=False)"
   ]
  },
  {
   "cell_type": "code",
   "execution_count": null,
   "metadata": {},
   "outputs": [],
   "source": []
  }
 ],
 "metadata": {
  "kernelspec": {
   "display_name": "gpu",
   "language": "python",
   "name": "python3"
  },
  "language_info": {
   "codemirror_mode": {
    "name": "ipython",
    "version": 3
   },
   "file_extension": ".py",
   "mimetype": "text/x-python",
   "name": "python",
   "nbconvert_exporter": "python",
   "pygments_lexer": "ipython3",
   "version": "3.12.2"
  }
 },
 "nbformat": 4,
 "nbformat_minor": 2
}
